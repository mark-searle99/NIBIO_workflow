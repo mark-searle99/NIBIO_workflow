{
 "cells": [
  {
   "cell_type": "markdown",
   "id": "67c504e0",
   "metadata": {},
   "source": [
    "Mark Searle, 3DGeo Group, Heidelberg University\n",
    "\n",
    "February 2022\n",
    "\n",
    "***"
   ]
  },
  {
   "cell_type": "markdown",
   "id": "e298b6bc",
   "metadata": {},
   "source": [
    "# Final workflow for NIBIO Application - Simulating on a Forest Plot and Annotating\n"
   ]
  },
  {
   "cell_type": "markdown",
   "id": "b0f5d597",
   "metadata": {},
   "source": [
    "### Input data\n",
    "\n",
    "Please provide the desired input in the cell below.\n",
    "\n",
    "For the point cloud, please subsample it using [CloudCompare](www.cloudcompare.org) using the \"space\" option and a value of 2cm. We will be voxelising with a voxel size of 2cm also."
   ]
  },
  {
   "cell_type": "code",
   "execution_count": 1,
   "id": "610c9ab6",
   "metadata": {},
   "outputs": [],
   "source": [
    "# Number identifier for the plot\n",
    "# (will be used to name the scene and survey files)\n",
    "plot_number = 2\n",
    "\n",
    "# Input point cloud to be processed (filename without backslashes)\n",
    "data = r\"G:/ws_21_22/praktikum/NIBIO_data/annotated_plots/plot_13_annotated.las\"\n",
    "\n",
    "# Flight Altidude (m.a.s.l.) NOT ABOVE POINT CLOUD!! \n",
    "# Check height of point cloud before setting.\n",
    "altitude = 400\n",
    "\n",
    "# Distance between two flight strips (m)\n",
    "flight_spacing = 100\n",
    "\n",
    "# Speed of the flight (m/s)\n",
    "flight_speed = 25"
   ]
  },
  {
   "cell_type": "markdown",
   "id": "12f8508c",
   "metadata": {},
   "source": [
    "## 1. Creating the Sceneparts\n",
    "First, we compute a digital terrain model (DTM), which we will model in HELIOS++ separately from the trees. We use the [python extension](https://github.com/PDAL/python) of the open source library [PDAL](https://pdal.io/) (Point Data Abstraction Library) to create the DTM."
   ]
  },
  {
   "cell_type": "code",
   "execution_count": 2,
   "id": "8bda4f03",
   "metadata": {},
   "outputs": [],
   "source": [
    "import pdal\n",
    "from annotate import *\n",
    "import os"
   ]
  },
  {
   "cell_type": "markdown",
   "id": "021ca302",
   "metadata": {},
   "source": [
    "First, we define our filenames."
   ]
  },
  {
   "cell_type": "code",
   "execution_count": 3,
   "id": "a9121809",
   "metadata": {},
   "outputs": [],
   "source": [
    "data_classified = data.replace(\".las\", \"_classified.las\")\n",
    "dtm_output = data.replace(\".las\", \"_dtm_50cm.tif\")\n",
    "vegetation_output = data.replace(\".las\", \"_vegetation.las\")"
   ]
  },
  {
   "cell_type": "markdown",
   "id": "98466ebe",
   "metadata": {},
   "source": [
    "We start by classifying the point cloud into ground and non-ground points using the Simple Morphological Filter (SMRF) (see also [Pingel et al. 2013](https://doi.org/10.1016/j.isprsjprs.2012.12.002))."
   ]
  },
  {
   "cell_type": "code",
   "execution_count": 4,
   "id": "7efb72f5",
   "metadata": {},
   "outputs": [],
   "source": [
    "json_classification = \"\"\"[\n",
    "    \"%s\",\n",
    "    {\n",
    "        \"type\":\"filters.smrf\",\n",
    "        \"ignore\":\"Classification[7:7]\",\n",
    "        \"window\":33,\n",
    "        \"slope\":0.2,\n",
    "        \"threshold\":0.5,\n",
    "        \"cell\":1.0\n",
    "    },\n",
    "    {\n",
    "        \"type\":\"filters.outlier\",\n",
    "        \"method\":\"statistical\",\n",
    "        \"mean_k\":8,\n",
    "        \"multiplier\":3.0\n",
    "    },\n",
    "    {\n",
    "        \"type\":\"writers.las\",\n",
    "        \"filename\": \"%s\",\n",
    "        \"compression\":\"false\"\n",
    "    }\n",
    "]\"\"\""
   ]
  },
  {
   "cell_type": "code",
   "execution_count": 5,
   "id": "ff61a48d",
   "metadata": {},
   "outputs": [],
   "source": [
    "pipeline = pdal.Pipeline(json_classification % (data, data_classified))\n",
    "exe = pipeline.execute()"
   ]
  },
  {
   "cell_type": "markdown",
   "id": "680dcb6f",
   "metadata": {},
   "source": [
    "Then, we use only the ground points (class 2, according to the ASPRS Standard point classes of the [LAS format specification](http://www.asprs.org/wp-content/uploads/2019/07/LAS_1_4_r15.pdf), p. 19, Table 9) to create a DTM of 0.5 m resolution."
   ]
  },
  {
   "cell_type": "code",
   "execution_count": 6,
   "id": "8f1d5b0e",
   "metadata": {},
   "outputs": [],
   "source": [
    "json_dtm = \"\"\"[\n",
    "    \"%s\",\n",
    "    {\n",
    "        \"type\":\"filters.range\",\n",
    "        \"limits\":\"Classification[2:2]\"\n",
    "    },\n",
    "    {\n",
    "        \"type\":\"writers.gdal\",\n",
    "        \"filename\": \"%s\",\n",
    "        \"output_type\":\"min\",\n",
    "        \"gdaldriver\":\"GTiff\",\n",
    "        \"resolution\":1.0,\n",
    "        \"window_size\":8\n",
    "    }\n",
    "]\"\"\""
   ]
  },
  {
   "cell_type": "code",
   "execution_count": 7,
   "id": "3cc679f1",
   "metadata": {},
   "outputs": [],
   "source": [
    "pipeline = pdal.Pipeline(json_dtm % (data_classified, dtm_output))\n",
    "exe = pipeline.execute()"
   ]
  },
  {
   "cell_type": "markdown",
   "id": "83036de4",
   "metadata": {},
   "source": [
    "We also want to export the non-ground points (= vegetation points) to a las file."
   ]
  },
  {
   "cell_type": "code",
   "execution_count": 8,
   "id": "035d3f40",
   "metadata": {},
   "outputs": [],
   "source": [
    "json_vegetation = \"\"\"[\n",
    "    \"%s\",\n",
    "    {\n",
    "        \"type\":\"filters.range\",\n",
    "        \"limits\":\"Classification[0:1]\"\n",
    "    },\n",
    "    {\n",
    "        \"type\":\"writers.las\",\n",
    "        \"filename\": \"%s\",\n",
    "        \"compression\":\"false\"\n",
    "    }\n",
    "]\"\"\""
   ]
  },
  {
   "cell_type": "code",
   "execution_count": 9,
   "id": "8f9be6d5",
   "metadata": {},
   "outputs": [],
   "source": [
    "pipeline = pdal.Pipeline(json_vegetation % (data_classified, vegetation_output))\n",
    "exe = pipeline.execute()"
   ]
  },
  {
   "cell_type": "markdown",
   "id": "27eb1374",
   "metadata": {},
   "source": [
    "Now we have the files needed to build our individual **sceneparts**, we will split the files covering the entire AOI into smaller tiles which we will simulate on individually to reduce memory consuption."
   ]
  },
  {
   "cell_type": "markdown",
   "id": "d8c4baa4",
   "metadata": {},
   "source": [
    "## 2. Writing the Scenes and Surveys\n",
    "\n",
    "In order to split the AOI up into various tiles, we will first determine our trajectory.\n",
    "\n",
    "**Note: From this point on the notebook needs to be located in the HELIOS++ root folder in order to work!**"
   ]
  },
  {
   "cell_type": "markdown",
   "id": "51050713",
   "metadata": {},
   "source": [
    "The various components of our simulation will be written to folders named `outfolder` within the helios directory. The exact output locations are as follows:\n",
    "\n",
    "surveys: `helios_dir/data/surveys/outfolder`\n",
    "\n",
    "scenes: `helios_dir/data/scenes/outfolder`\n",
    "\n",
    "sceneparts: `helios_dir/data/sceneparts/outfolder`"
   ]
  },
  {
   "cell_type": "code",
   "execution_count": 10,
   "id": "a449c2c6",
   "metadata": {},
   "outputs": [],
   "source": [
    "from pathlib import Path, PurePath\n",
    "import shutil\n",
    "\n",
    "outfolder = 'NIBIO_tiles'\n",
    "\n",
    "scene_folder = Path('data/scenes/', outfolder)\n",
    "scenepart_folder = Path('data/sceneparts/', outfolder)\n",
    "survey_folder = Path('data/surveys/', outfolder)\n",
    "if not scene_folder.exists():\n",
    "    Path.mkdir(scene_folder)\n",
    "if not scenepart_folder.exists():\n",
    "    Path.mkdir(scenepart_folder)\n",
    "if not survey_folder.exists():\n",
    "    Path.mkdir(survey_folder)"
   ]
  },
  {
   "cell_type": "markdown",
   "id": "cb0d7133",
   "metadata": {},
   "source": [
    "For this we calculate the center of the plot with laspy and plan our survey around this point. "
   ]
  },
  {
   "cell_type": "code",
   "execution_count": 11,
   "id": "1788519b",
   "metadata": {},
   "outputs": [],
   "source": [
    "import laspy"
   ]
  },
  {
   "cell_type": "code",
   "execution_count": 12,
   "id": "fec64327",
   "metadata": {
    "scrolled": true
   },
   "outputs": [],
   "source": [
    "with laspy.open(vegetation_output) as f:\n",
    "        header = f.header\n",
    "        extents = [header.max, header.min]\n",
    "central_point = [extents[1][0] + (extents[0][0]-extents[1][0])/2, \n",
    "                 extents[1][1] + (extents[0][1]-extents[1][1])/2]"
   ]
  },
  {
   "cell_type": "markdown",
   "id": "e0dfa8bc",
   "metadata": {},
   "source": [
    "We will fly along the Y axis with an offset of `flight_spacing/2` meters in either direction of the X axis."
   ]
  },
  {
   "cell_type": "code",
   "execution_count": 13,
   "id": "370a3788",
   "metadata": {},
   "outputs": [],
   "source": [
    "waypoint1 = [central_point[0]+(flight_spacing/2), extents[1][1]]\n",
    "waypoint2 = [central_point[0]+(flight_spacing/2), extents[0][1]]\n",
    "waypoint3 = [central_point[0]-(flight_spacing/2), extents[0][1]]\n",
    "waypoint4 = [central_point[0]-(flight_spacing/2), extents[1][1]]"
   ]
  },
  {
   "cell_type": "markdown",
   "id": "06175a2a",
   "metadata": {},
   "source": [
    "We can check the trajectory visually here using matplotlib."
   ]
  },
  {
   "cell_type": "code",
   "execution_count": 14,
   "id": "c6e9a8f2",
   "metadata": {
    "scrolled": true
   },
   "outputs": [
    {
     "data": {
      "image/png": "[encoded data removed]",
      "text/plain": [
       "<Figure size 432x288 with 1 Axes>"
      ]
     },
     "metadata": {
      "needs_background": "light"
     },
     "output_type": "display_data"
    }
   ],
   "source": [
    "import matplotlib.pyplot as plt\n",
    "\n",
    "plt.title('Trajectory for Simulation\\nDistance between blue lines is {}m'.format(flight_spacing))\n",
    "plt.scatter([extents[0][0], extents[0][0], extents[1][0], extents[1][0]], [extents[0][1], extents[1][1], extents[0][1], extents[1][1]], c='red', label='Point Cloud Extent')\n",
    "plt.plot([waypoint1[0], waypoint2[0]], [waypoint1[1], waypoint2[1]], c='blue', label='Trajectory')\n",
    "plt.plot([waypoint3[0], waypoint4[0]], [waypoint3[1], waypoint4[1]], c='blue')\n",
    "plt.legend()\n",
    "plt.axis('equal')\n",
    "plt.xlabel('x')\n",
    "plt.ylabel('y')\n",
    "plt.show()"
   ]
  },
  {
   "cell_type": "markdown",
   "id": "0dfb3776",
   "metadata": {},
   "source": [
    "Using these waypoints and the following scanner settings we can now write our survey and scene files.\n",
    "\n",
    "**Change values as needed!**"
   ]
  },
  {
   "cell_type": "code",
   "execution_count": 15,
   "id": "979277ce",
   "metadata": {},
   "outputs": [],
   "source": [
    "# Scanner platform\n",
    "platform = \"sr22\"\n",
    "\n",
    "# Scanner id as specified in data/scanners_als.xml\n",
    "scanner = \"riegl_vux-240\"\n",
    "\n",
    "# Scanner settings\n",
    "scan_angle = 37.5\n",
    "pulse_freq = 1800000\n",
    "scan_freq = 300\n",
    "\n",
    "# Number of tile to split the AOI into.\n",
    "# Should be adjusted according to number of points in input point cloud.\n",
    "num_tiles = 5\n",
    "\n",
    "scanner_config = [platform, scanner, scan_angle, \n",
    "                  pulse_freq, scan_freq, altitude, flight_speed]\n",
    "trajectory = [waypoint1, waypoint2, waypoint3, waypoint4]"
   ]
  },
  {
   "cell_type": "markdown",
   "id": "f55bb248",
   "metadata": {},
   "source": [
    "To split the AOI into tiles and create surveys and scenes for each tile we will use the function `create_tiles` from the file `annotate.py`."
   ]
  },
  {
   "cell_type": "code",
   "execution_count": 16,
   "id": "4d1c4cfc",
   "metadata": {
    "scrolled": false
   },
   "outputs": [
    {
     "name": "stdout",
     "output_type": "stream",
     "text": [
      "Tile height 5.566000000014901m\n",
      "Laying down tile number 1...\n",
      "[[599193.365, 6655612.71, 400, 'true'], [599193.365, 6655618.276, 400, 'false'], [599093.365, 6655618.276, 400, 'true'], [599093.365, 6655612.71, 400, 'false']]\n",
      "Tile successfully layed.\n",
      "Writing survey file..\n",
      "Writing scene file...\n",
      "Laying down tile number 2...\n",
      "[[599193.365, 6655618.276, 400, 'true'], [599193.365, 6655623.842, 400, 'false'], [599093.365, 6655623.842, 400, 'true'], [599093.365, 6655618.276, 400, 'false']]\n",
      "Tile successfully layed.\n",
      "Writing survey file..\n",
      "Writing scene file...\n",
      "Laying down tile number 3...\n",
      "[[599193.365, 6655623.842, 400, 'true'], [599193.365, 6655629.408, 400, 'false'], [599093.365, 6655629.408, 400, 'true'], [599093.365, 6655623.842, 400, 'false']]\n",
      "Tile successfully layed.\n",
      "Writing survey file..\n",
      "Writing scene file...\n",
      "Laying down tile number 4...\n",
      "[[599193.365, 6655629.408, 400, 'true'], [599193.365, 6655634.974, 400, 'false'], [599093.365, 6655634.974, 400, 'true'], [599093.365, 6655629.408, 400, 'false']]\n",
      "Tile successfully layed.\n",
      "Writing survey file..\n",
      "Writing scene file...\n",
      "Laying down tile number 5...\n",
      "[[599193.365, 6655634.974, 400, 'true'], [599193.365, 6655640.54, 400, 'false'], [599093.365, 6655640.54, 400, 'true'], [599093.365, 6655634.974, 400, 'false']]\n",
      "Tile successfully layed.\n",
      "Writing survey file..\n",
      "Writing scene file...\n",
      "\n",
      "Tile creation successfull!\n",
      "Scenes written to data/scenes/NIBIO_tiles\n",
      "Sceneparts written to data/sceneparts/NIBIO_tiles\n",
      "Surveys written to data/surveys/NIBIO_tiles\n"
     ]
    }
   ],
   "source": [
    "create_tiles(plot_number, num_tiles, outfolder, vegetation_output, dtm_output,\n",
    "             extents, trajectory, scanner_config)"
   ]
  },
  {
   "cell_type": "markdown",
   "id": "e2a82d24",
   "metadata": {},
   "source": [
    "As seen in the output, the function `create_tiles` wrote a scene xml, survey xml and sceneparts corresponding to each of the generated tiles. These are the ingredients we need to execute HELIOS++ simulations."
   ]
  },
  {
   "cell_type": "markdown",
   "id": "59b8eeeb",
   "metadata": {},
   "source": [
    "## 4. Running the Simulations\n",
    "\n",
    "Next, we need to run each of the simulations that we just configured. There is a function in `annotate.py` called `sim_iter` that will do this for us."
   ]
  },
  {
   "cell_type": "markdown",
   "id": "fe3f73f4",
   "metadata": {},
   "source": [
    "1. As a test to check whether pyhelios is working correctly, we can attempt to import it first."
   ]
  },
  {
   "cell_type": "code",
   "execution_count": 17,
   "id": "40b8a711",
   "metadata": {},
   "outputs": [],
   "source": [
    "import pyhelios"
   ]
  },
  {
   "cell_type": "markdown",
   "id": "0a6e4a4c",
   "metadata": {},
   "source": [
    "2. Now let's run the simulations, this is done by giving `sim_iter` the number of iterations we want to perform and the template for the survey name:\n",
    "\n",
    "`data/surveys/outfolder/px_t{}_survey.xml`\n",
    "\n",
    "If nothing was changed  in the `create_tiles` function, the survey name template will be as specified in the following cell.\n",
    "\n",
    "**We can watch the HELIOS++ command line output in the Anaconda Prompt.**"
   ]
  },
  {
   "cell_type": "code",
   "execution_count": 33,
   "id": "016238c4",
   "metadata": {
    "scrolled": true
   },
   "outputs": [
    {
     "name": "stdout",
     "output_type": "stream",
     "text": [
      "Simulation has started!\n",
      "Survey Name: plot_2_tile_1\n",
      "Scanner: riegl_vux-240 Power: 4.000000 W Divergence: 0.350000 mrad Wavelength: 1064 nm Visibility: 23.000000 km\n",
      "Simulation has started!\n",
      "Survey Name: plot_2_tile_2\n",
      "Scanner: riegl_vux-240 Power: 4.000000 W Divergence: 0.350000 mrad Wavelength: 1064 nm Visibility: 23.000000 km\n",
      "Simulation has started!\n",
      "Survey Name: plot_2_tile_3\n",
      "Scanner: riegl_vux-240 Power: 4.000000 W Divergence: 0.350000 mrad Wavelength: 1064 nm Visibility: 23.000000 km\n",
      "Simulation has started!\n",
      "Survey Name: plot_2_tile_4\n",
      "Scanner: riegl_vux-240 Power: 4.000000 W Divergence: 0.350000 mrad Wavelength: 1064 nm Visibility: 23.000000 km\n",
      "Simulation has started!\n",
      "Survey Name: plot_2_tile_5\n",
      "Scanner: riegl_vux-240 Power: 4.000000 W Divergence: 0.350000 mrad Wavelength: 1064 nm Visibility: 23.000000 km\n"
     ]
    }
   ],
   "source": [
    "survey_name_template = 'p{}_'.format(plot_number) + 't{}_survey.xml'\n",
    "outfolders = sim_iter(num_tiles, str(Path(survey_folder, survey_name_template)))"
   ]
  },
  {
   "cell_type": "markdown",
   "id": "a9b00349",
   "metadata": {},
   "source": [
    "## 5. Merge the Output from the different tiles.\n",
    "\n",
    "The outputs of the simulations for each tile have ended up in seperate folders within the `helios_dir/output/Survey Playback/` folder. In order to perform the annotation transfer we must merge them into one .las file.\n",
    "\n",
    "We will do this using [LAStools](https://lastools.github.io/), specifically the executable `lasmerge.exe`.\n",
    "\n",
    "**Please assign the location of your** `lasmerge.exe` **to the variable** `lasmerge` **below.**\n",
    "\n",
    "You can also specify an output file name and location."
   ]
  },
  {
   "cell_type": "code",
   "execution_count": 34,
   "id": "ec7545f8",
   "metadata": {
    "scrolled": false
   },
   "outputs": [],
   "source": [
    "lasmerge = r\"G:\\LAStools\\bin\\lasmerge.exe\"\n",
    "merge_location = r'output\\Survey Playback\\plot_{}_merged\\plot_{}.las'.format(\n",
    "    plot_number, plot_number)\n",
    "if not Path(os.path.dirname(merge_location)).exists():\n",
    "    Path.mkdir(Path(os.path.dirname(merge_location)))"
   ]
  },
  {
   "cell_type": "markdown",
   "id": "ec0c9fe1",
   "metadata": {},
   "source": [
    "As input for lasmerge we'll write a .txt file containing all of the filepaths of the files we want to merge."
   ]
  },
  {
   "cell_type": "code",
   "execution_count": 35,
   "id": "b83c34ad",
   "metadata": {},
   "outputs": [],
   "source": [
    "to_merge = open('merge_list.txt', 'w')\n",
    "for path in outfolders:\n",
    "    for file in os.listdir(os.path.dirname(path)):\n",
    "        if file.endswith('.las'):\n",
    "            to_merge.write(os.path.join(os.getcwd(), os.path.dirname(path), file))\n",
    "            to_merge.write('\\n')\n",
    "to_merge.close()"
   ]
  },
  {
   "cell_type": "markdown",
   "id": "3441febe",
   "metadata": {},
   "source": [
    "Now we can execute lasmerge with a command line call. We'll print the output in case anything goes wrong. If there's no output the program will have run successfully."
   ]
  },
  {
   "cell_type": "code",
   "execution_count": 36,
   "id": "7fa00d1e",
   "metadata": {},
   "outputs": [
    {
     "name": "stdout",
     "output_type": "stream",
     "text": [
      "\n"
     ]
    }
   ],
   "source": [
    "print(os.popen(r'\"{}\" -lof merge_list.txt -o \"{}\"'.format(lasmerge, merge_location)).read())"
   ]
  },
  {
   "cell_type": "markdown",
   "id": "78628f27",
   "metadata": {},
   "source": [
    "## 6. Annotate the Simulated Point Cloud\n",
    "\n",
    "Now that we have our simulated point cloud we can perform our nearest neighbor annotation to transfer the annotations from the original input point cloud to the simulated one.\n",
    "\n",
    "To open the point clouds we will use laspy."
   ]
  },
  {
   "cell_type": "code",
   "execution_count": 37,
   "id": "a0bbfee0",
   "metadata": {},
   "outputs": [],
   "source": [
    "import laspy\n",
    "import numpy as np"
   ]
  },
  {
   "cell_type": "markdown",
   "id": "5d5d4229",
   "metadata": {},
   "source": [
    "Open both the input and clouds and read data."
   ]
  },
  {
   "cell_type": "code",
   "execution_count": 38,
   "id": "2369391c",
   "metadata": {
    "scrolled": true
   },
   "outputs": [
    {
     "name": "stdout",
     "output_type": "stream",
     "text": [
      "['X', 'Y', 'Z', 'intensity', 'return_number', 'number_of_returns', 'scan_direction_flag', 'edge_of_flight_line', 'classification', 'synthetic', 'key_point', 'withheld', 'scan_angle_rank', 'user_data', 'point_source_id', 'gps_time', 'treeID', 'treeSP']\n",
      "['X', 'Y', 'Z', 'intensity', 'return_number', 'number_of_returns', 'synthetic', 'key_point', 'withheld', 'overlap', 'scanner_channel', 'scan_direction_flag', 'edge_of_flight_line', 'classification', 'user_data', 'scan_angle', 'point_source_id', 'gps_time', 'echo_width', 'fullwaveIndex', 'hitObjectId', 'heliosAmplitude']\n"
     ]
    }
   ],
   "source": [
    "i_point_format, lasi, header, input = open_las(data)\n",
    "o_point_format, laso, header_unan, unannotated = open_las(merge_location)"
   ]
  },
  {
   "cell_type": "markdown",
   "id": "05e971a5",
   "metadata": {},
   "source": [
    "The annotated .las file will be written to the same folder as the merged point cloud produced by merging the output from the simulations."
   ]
  },
  {
   "cell_type": "code",
   "execution_count": 39,
   "id": "92015a0c",
   "metadata": {},
   "outputs": [],
   "source": [
    "annotated_name = merge_location.replace('.las', '_annotated.las')"
   ]
  },
  {
   "cell_type": "markdown",
   "id": "f9863704",
   "metadata": {},
   "source": [
    "For the nearest neighbor analysis we will use the python library sklearn, specifically the funciton KDTree."
   ]
  },
  {
   "cell_type": "code",
   "execution_count": 40,
   "id": "9ded113b",
   "metadata": {},
   "outputs": [],
   "source": [
    "from sklearn.neighbors import KDTree\n",
    "import time"
   ]
  },
  {
   "cell_type": "markdown",
   "id": "54f14357",
   "metadata": {},
   "source": [
    "Compute kdtree and perform analysis. k = 1 to find only first nearest neighbor."
   ]
  },
  {
   "cell_type": "code",
   "execution_count": 41,
   "id": "6c3d69cb",
   "metadata": {
    "scrolled": false
   },
   "outputs": [
    {
     "name": "stdout",
     "output_type": "stream",
     "text": [
      "Time taken for setting up kdtree: 12.694929361343384s.\n",
      "Time taken for total analysis: 33.69055771827698s\n"
     ]
    }
   ],
   "source": [
    "kdt_start = time.time()\n",
    "kdt = KDTree(input[:3, :].transpose(), leaf_size=30, metric='euclidean')\n",
    "kdt_calc_end = time.time()\n",
    "query = kdt.query(unannotated.transpose(), k=1, return_distance=False)\n",
    "kdt_end = time.time()\n",
    "\n",
    "print('Time taken for setting up kdtree: {}s.'.format(kdt_calc_end-kdt_start))\n",
    "print('Time taken for total analysis: {}s'.format(kdt_end-kdt_start))"
   ]
  },
  {
   "cell_type": "markdown",
   "id": "17b214ec",
   "metadata": {},
   "source": [
    "Get values of tree id and species from query result"
   ]
  },
  {
   "cell_type": "code",
   "execution_count": 42,
   "id": "42bcddec",
   "metadata": {},
   "outputs": [],
   "source": [
    "tree_spid = [[input[3, point[0]], input[4, point[0]]] for point in query]\n",
    "tree_spid = np.array(tree_spid)"
   ]
  },
  {
   "cell_type": "markdown",
   "id": "42d08eff",
   "metadata": {},
   "source": [
    "Create new laspy file for output point cloud. Copy of header from point cloud to be annotated and add extra dimensions to output point cloud."
   ]
  },
  {
   "cell_type": "code",
   "execution_count": 43,
   "id": "62d9eb60",
   "metadata": {},
   "outputs": [],
   "source": [
    "annotated = laspy.LasData(header_unan)\n",
    "\n",
    "annotated.add_extra_dim(laspy.ExtraBytesParams(\n",
    "    name=\"treeSP\",\n",
    "    type=np.uint64,\n",
    "    description=\"tree species\"\n",
    "))\n",
    "annotated.add_extra_dim(laspy.ExtraBytesParams(\n",
    "    name=\"treeID\",\n",
    "    type=np.uint64,\n",
    "    description=\"tree id\"\n",
    "))"
   ]
  },
  {
   "cell_type": "markdown",
   "id": "6da86697",
   "metadata": {},
   "source": [
    "Copy point values from point cloud to be annotated to output point cloud."
   ]
  },
  {
   "cell_type": "code",
   "execution_count": 44,
   "id": "b134ede0",
   "metadata": {},
   "outputs": [],
   "source": [
    "to_copy = list(o_point_format.dimension_names)\n",
    "to_copy.remove('treeID')\n",
    "to_copy.remove('treeSP')\n",
    "for dimension in to_copy:\n",
    "    annotated[dimension] = laso[dimension]"
   ]
  },
  {
   "cell_type": "markdown",
   "id": "835b2ed2",
   "metadata": {},
   "source": [
    "Add new columns to output point cloud and write new las data to file."
   ]
  },
  {
   "cell_type": "code",
   "execution_count": 45,
   "id": "8be1c2ee",
   "metadata": {},
   "outputs": [
    {
     "name": "stdout",
     "output_type": "stream",
     "text": [
      "LAS file written to output\\Survey Playback\\plot_2_merged\\plot_2.las\n"
     ]
    }
   ],
   "source": [
    "annotated.treeSP = np.array(tree_spid[:,0])\n",
    "annotated.treeID = np.array(tree_spid[:,1])\n",
    "\n",
    "annotated.write(annotated_name)\n",
    "\n",
    "print('LAS file written to {}'.format(merge_location))"
   ]
  },
  {
   "cell_type": "markdown",
   "id": "4938eee1",
   "metadata": {},
   "source": [
    "Done! Annotated point cloud is located at filepath above."
   ]
  },
  {
   "cell_type": "code",
   "execution_count": null,
   "id": "aa10b148",
   "metadata": {},
   "outputs": [],
   "source": []
  }
 ],
 "metadata": {
  "kernelspec": {
   "display_name": "Python 3 (ipykernel)",
   "language": "python",
   "name": "python3"
  },
  "language_info": {
   "codemirror_mode": {
    "name": "ipython",
    "version": 3
   },
   "file_extension": ".py",
   "mimetype": "text/x-python",
   "name": "python",
   "nbconvert_exporter": "python",
   "pygments_lexer": "ipython3",
   "version": "3.9.10"
  }
 },
 "nbformat": 4,
 "nbformat_minor": 5
}
